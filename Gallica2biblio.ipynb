{
 "cells": [
  {
   "cell_type": "markdown",
   "id": "cb22c2cf-228e-4e32-856b-2e93c3663770",
   "metadata": {},
   "source": [
    "# Gallica to Bibliography\n",
    "Import metadata from a Gallica IIIF manifest and turn it into human-readable bibliographical material\n",
    "\n",
    "-------\n",
    "## 1. Get the metadata from DataBnF\n",
    "This function takes the path to a TXT file. This is your list of URLs/URIs. It must have one URL/URI per line. Anything which does not contain `bnf.fr` will simply be ignored, so feel free to include other information, as long as every URL/URI is the only thing in its line. For instance:\n",
    "```txt\n",
    "--------- ZOLA ---------\n",
    "J'accuse !\n",
    "https://gallica.bnf.fr/ark:/12148/bpt6k701453s\n",
    "Notes d'un ami\n",
    "https://catalogue.bnf.fr/ark:/12148/cb30009987x\n",
    "Lettre à Faure\n",
    "https://catalogue.bnf.fr/ark:/12148/cb38846725d\n",
    "```"
   ]
  },
  {
   "cell_type": "code",
   "execution_count": null,
   "id": "ff4f73ec-4ccd-4dc5-9c2a-3e69111721ef",
   "metadata": {
    "scrolled": true
   },
   "outputs": [],
   "source": [
    "from utils import parse_list\n",
    "\n",
    "parse_list(\"iiif_list.txt\")"
   ]
  },
  {
   "cell_type": "markdown",
   "id": "2352429a-d4ca-44eb-becd-d7e12078085c",
   "metadata": {},
   "source": [
    "---\n",
    "## 2. Format the metadata into an Author-date bibliography\n",
    "This takes the path to the XLSX file produced by the previous function, which should be named `iiif_metadata.xlsx`.\n",
    "Please note, firstly that it was made as a one-shot script and only takes into account the *Oxford style* or *Author-date* bibliographical rules :\n",
    "> SMALL-CAPS-NAME, Firstname \\[1st edition] (current edition). *Title of book*. Number of tomes/volumes. Publishing place : publisher. On line : Gallica-URL."
   ]
  },
  {
   "cell_type": "code",
   "execution_count": null,
   "id": "60c2746c-5aa6-423b-9fc6-94f55ea9683b",
   "metadata": {},
   "outputs": [],
   "source": [
    "from utils import layout\n",
    "\n",
    "layout(\"iiif_metadata.xlsx\")"
   ]
  }
 ],
 "metadata": {
  "kernelspec": {
   "display_name": "Python 3 (ipykernel)",
   "language": "python",
   "name": "python3"
  },
  "language_info": {
   "codemirror_mode": {
    "name": "ipython",
    "version": 3
   },
   "file_extension": ".py",
   "mimetype": "text/x-python",
   "name": "python",
   "nbconvert_exporter": "python",
   "pygments_lexer": "ipython3",
   "version": "3.11.5"
  }
 },
 "nbformat": 4,
 "nbformat_minor": 5
}
